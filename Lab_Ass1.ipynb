{
 "cells": [
  {
   "cell_type": "code",
   "execution_count": 3,
   "id": "05f2a735-1c72-4e66-9931-9f56b223417b",
   "metadata": {},
   "outputs": [],
   "source": [
    "import numpy as np\n"
   ]
  },
  {
   "cell_type": "code",
   "execution_count": 3,
   "id": "394ad606-1d90-46a9-86b4-51dd86284f6d",
   "metadata": {},
   "outputs": [
    {
     "name": "stdout",
     "output_type": "stream",
     "text": [
      "Reversed arr:  [5 4 6 3 2 1]\n"
     ]
    }
   ],
   "source": [
    "# ques 1\n",
    "#a\n",
    "a= np.array([1,2,3,6,4,5]);\n",
    "rev_arr = np.flip(a)\n",
    "print(\"Reversed arr: \",rev_arr)"
   ]
  },
  {
   "cell_type": "code",
   "execution_count": 5,
   "id": "46592143-94e4-49db-991c-fbcccc176ce7",
   "metadata": {},
   "outputs": [
    {
     "name": "stdout",
     "output_type": "stream",
     "text": [
      "Original arr: [[1 2 3]\n",
      " [2 4 5]\n",
      " [1 2 3]]\n",
      "Flattened arr:  [1 2 3 2 4 5 1 2 3]\n"
     ]
    }
   ],
   "source": [
    "#b\n",
    "arr = np.array([[1,2,3],[2,4,5],[1,2,3]]);\n",
    "print(\"Original arr:\",arr)\n",
    "flaten_Arr = arr.flatten()\n",
    "print(\"Flattened arr: \", flaten_Arr);"
   ]
  },
  {
   "cell_type": "code",
   "execution_count": 7,
   "id": "3b3f6583-c057-46cc-b9e2-1c6874fdfc30",
   "metadata": {},
   "outputs": [
    {
     "name": "stdout",
     "output_type": "stream",
     "text": [
      "Equal arrays :  True\n"
     ]
    }
   ],
   "source": [
    "#c\n",
    "a1 =  np.array([[1, 2], [3, 4]]) ;\n",
    "a2 =  np.array([[1, 2], [3, 4]]) ;\n",
    "print(\"Equal arrays : \" , np.array_equal(a1,a2))"
   ]
  },
  {
   "cell_type": "code",
   "execution_count": 9,
   "id": "d32746c3-c22f-4cab-925a-5c7e7f209430",
   "metadata": {},
   "outputs": [
    {
     "name": "stdout",
     "output_type": "stream",
     "text": [
      "Most freq in x:  1 At:  [0 5 7 8 9]\n",
      "Most freq in y:  1 At:  [0 1 2]\n"
     ]
    }
   ],
   "source": [
    "# d\n",
    "x = np.array([1,2,3,4,5,1,2,1,1,1]) \n",
    "y = np.array([1, 1, 1, 2, 3, 4, 2, 4, 3, 3, ]) \n",
    "most_freq_x = np.bincount(x).argmax()\n",
    "x_indice = np.where( x == most_freq_x)[0]\n",
    "most_freq_y = np.bincount(y).argmax()\n",
    "y_indice = np.where( y == most_freq_y)[0]\n",
    "print(\"Most freq in x: \" ,most_freq_x, \"At: \",x_indice);\n",
    "print(\"Most freq in y: \" ,most_freq_y, \"At: \",y_indice);"
   ]
  },
  {
   "cell_type": "code",
   "execution_count": 10,
   "id": "8ca3a8aa-b4b6-4dfb-b7ad-7dfd621e6c06",
   "metadata": {},
   "outputs": [
    {
     "name": "stdout",
     "output_type": "stream",
     "text": [
      "Sum =  45\n",
      "Sum row =  [[14]\n",
      " [16]\n",
      " [15]]\n",
      "Sum col =  [[20  9 16]]\n"
     ]
    }
   ],
   "source": [
    "#e\n",
    "gfg = np.matrix('[4, 1, 9; 12, 3, 1; 4, 5, 6]')\n",
    "TotSum = gfg.sum()\n",
    "sum_row = gfg.sum(axis=1)\n",
    "sum_col = gfg.sum(axis = 0)\n",
    "print(\"Sum = \", TotSum)\n",
    "print(\"Sum row = \", sum_row)\n",
    "print(\"Sum col = \", sum_col)\n",
    "\n"
   ]
  },
  {
   "cell_type": "code",
   "execution_count": 11,
   "id": "fc71966b-5ffc-49a0-93bc-884f6612829f",
   "metadata": {},
   "outputs": [
    {
     "name": "stdout",
     "output_type": "stream",
     "text": [
      "Sum of Diagonal: 176\n",
      "Eigen Values: [98.16835147 28.097044   49.73460452]\n",
      "Eigen Vectors:\n",
      " [[ 0.4574917   0.34637121 -0.15017693]\n",
      " [ 0.28447814 -0.72784061 -0.4852124 ]\n",
      " [ 0.84248058  0.59184038  0.8614034 ]]\n",
      "Inverse Matrix:\n",
      " [[ 0.02404141 -0.00911212 -0.00444671]\n",
      " [-0.01667882  0.02966905  0.0024785 ]\n",
      " [ 0.00631287 -0.01603732  0.01217379]]\n",
      "Determinant: 137180.0000000001\n"
     ]
    }
   ],
   "source": [
    "#f\n",
    "n_array = np.array([[55, 25, 15],[30, 44, 2],[11, 45, 77]])\n",
    "diag_sum = np.trace(n_array)\n",
    "eigen_values, eigen_vectors = np.linalg.eig(n_array)\n",
    "inverse_matrix = np.linalg.inv(n_array)\n",
    "determinant_matrix = np.linalg.det(n_array)\n",
    "print(\"Sum of Diagonal:\", diag_sum)\n",
    "print(\"Eigen Values:\", eigen_values)\n",
    "print(\"Eigen Vectors:\\n\", eigen_vectors)\n",
    "print(\"Inverse Matrix:\\n\", inverse_matrix)\n",
    "print(\"Determinant:\", determinant_matrix)"
   ]
  },
  {
   "cell_type": "code",
   "execution_count": 16,
   "id": "ffa9c1e1-5202-47a9-9a18-b677da135e02",
   "metadata": {},
   "outputs": [
    {
     "name": "stdout",
     "output_type": "stream",
     "text": [
      "Multiplication:  [[16 19]\n",
      " [26 31]]\n",
      "Covariance:  [[0.5 0.5 0.5 0.5]\n",
      " [0.5 0.5 0.5 0.5]\n",
      " [0.5 0.5 0.5 0.5]\n",
      " [0.5 0.5 0.5 0.5]]\n",
      "Multiplication:  [[16 19  5]\n",
      " [26 31  8]\n",
      " [46 55 14]]\n",
      "Covariance:  [[1.55555556 1.55555556]\n",
      " [1.55555556 1.55555556]]\n"
     ]
    }
   ],
   "source": [
    "#g\n",
    "p1 = np.array([[1, 2], [2, 3]])\n",
    "q1 = np.array([[4, 5], [6, 7]]) \n",
    "mul1 = np.dot(p1,q1)\n",
    "cov1 = np.cov(p1,q1)\n",
    "print(\"Multiplication: \",mul1)\n",
    "print(\"Covariance: \", cov1)\n",
    "\n",
    "p2 = np.array( [[1, 2], [2, 3], [4, 5]])\n",
    "q2 = np.array( [[4, 5, 1], [6, 7, 2]] ) \n",
    "mul2 = np.dot(p2,q2)\n",
    "cov2 = np.cov(p2,rowvar=False,bias=True)\n",
    "print(\"Multiplication: \",mul2)\n",
    "print(\"Covariance: \", cov2)"
   ]
  },
  {
   "cell_type": "code",
   "execution_count": 19,
   "id": "f6e1d4b5-992a-4358-bedd-9b887f815501",
   "metadata": {},
   "outputs": [
    {
     "name": "stdout",
     "output_type": "stream",
     "text": [
      "Inner product:  [[17 52]\n",
      " [13 62]]\n",
      "Outer product:  [[ 2 10  0 10 20  6]\n",
      " [ 3 15  0 15 30  9]\n",
      " [ 4 20  0 20 40 12]\n",
      " [ 3 15  0 15 30  9]\n",
      " [ 2 10  0 10 20  6]\n",
      " [ 9 45  0 45 90 27]]\n",
      "Cross product:  [[-20   4   7]\n",
      " [-84  36  20]]\n",
      "Cartesian product:  [[[[ 2 10  0]\n",
      "   [10 20  6]]\n",
      "\n",
      "  [[ 3 15  0]\n",
      "   [15 30  9]]\n",
      "\n",
      "  [[ 4 20  0]\n",
      "   [20 40 12]]]\n",
      "\n",
      "\n",
      " [[[ 3 15  0]\n",
      "   [15 30  9]]\n",
      "\n",
      "  [[ 2 10  0]\n",
      "   [10 20  6]]\n",
      "\n",
      "  [[ 9 45  0]\n",
      "   [45 90 27]]]]\n"
     ]
    }
   ],
   "source": [
    "#h\n",
    "x = np.array([[2, 3, 4], [3, 2, 9]]);\n",
    "y = np.array([[1, 5, 0], [5, 10, 3]]);\n",
    "print(\"Inner product: \", np.inner(x,y))\n",
    "print(\"Outer product: \", np.outer(x,y))\n",
    "print(\"Cross product: \", np.cross(x,y))\n",
    "print(\"Cartesian product: \", np.tensordot(x, y, axes=0))"
   ]
  },
  {
   "cell_type": "code",
   "execution_count": 23,
   "id": "1d3248e1-e0b1-468f-8332-5ae562e9b26d",
   "metadata": {},
   "outputs": [
    {
     "name": "stdout",
     "output_type": "stream",
     "text": [
      "[[1 2 3]\n",
      " [4 5 6]]\n",
      "**********************\n",
      "Flattened array:  [ 1 -2  3 -4  5 -6]\n",
      "percentile flattened: [-3.5 -0.5  2.5]\n",
      "percentile column-wise: [[-2.75 -0.25 -3.75]\n",
      " [-1.5   1.5  -1.5 ]\n",
      " [-0.25  3.25  0.75]]\n",
      "percentile row-wise: [[-0.5 -5. ]\n",
      " [ 1.  -4. ]\n",
      " [ 2.   0.5]]\n",
      "**********************\n",
      "flatten:\n",
      " mean: -0.5 \n",
      " meadian: -0.5 \n",
      " sd: 3.8622100754188224\n",
      "Col-wise:\n",
      " mean: [-1.5  1.5 -1.5] \n",
      " meadian: [-1.5  1.5 -1.5] \n",
      " sd: [2.5 3.5 4.5]\n",
      "Row-wise:\n",
      " mean: [ 0.66666667 -1.66666667] \n",
      " meadian: [ 1. -4.] \n",
      " sd: [2.05480467 4.78423336]\n"
     ]
    }
   ],
   "source": [
    "# ques 2\n",
    "# a\n",
    "# i.\n",
    "array = np.array([[1, -2, 3],[-4, 5, -6]]) \n",
    "abs_arr= np.abs(array)\n",
    "print(abs_arr)\n",
    "print(\"**********************\")\n",
    "# ii.\n",
    "flatten = array.flatten()\n",
    "print(\"Flattened array: \", flatten)\n",
    "percentile = np.percentile( array , [25,50,75] )\n",
    "percentile_col = np.percentile(array, [25,50,75] , axis = 0)\n",
    "percentile_row = np.percentile(array, [25,50,75] , axis = 1)\n",
    "print(\"percentile flattened:\",percentile)\n",
    "print(\"percentile column-wise:\",percentile_col)\n",
    "print(\"percentile row-wise:\",percentile_row)\n",
    "print(\"**********************\")\n",
    "\n",
    "# iii.\n",
    "mean_flat = np.mean(array)\n",
    "med_flat = np.median(array)\n",
    "sd_flat = np.std(array)\n",
    "print(f\"flatten:\\n mean: {mean_flat} \\n meadian: {med_flat} \\n sd: {sd_flat}\")\n",
    "\n",
    "mean_col = np.mean(array,axis=0)\n",
    "med_col = np.median(array,axis=0)\n",
    "sd_col = np.std(array,axis=0)\n",
    "print(f\"Col-wise:\\n mean: {mean_col} \\n meadian: {med_col} \\n sd: {sd_col}\")\n",
    "\n",
    "mean_row = np.mean(array,axis=1)\n",
    "med_row = np.median(array,axis=1)\n",
    "sd_row = np.std(array,axis=1)\n",
    "print(f\"Row-wise:\\n mean: {mean_row} \\n meadian: {med_row} \\n sd: {sd_row}\")\n"
   ]
  },
  {
   "cell_type": "code",
   "execution_count": 26,
   "id": "65210178-5518-47dc-aa75-f66e8739b0a2",
   "metadata": {},
   "outputs": [
    {
     "name": "stdout",
     "output_type": "stream",
     "text": [
      "floor:[-2. -2. -1.  0.  1.  1.  3.]\n",
      " ceiling:[-1. -1. -0.  1.  2.  2.  3.]\n",
      " truncated values:[-1. -1. -0.  0.  1.  1.  3.]\n",
      " rounded values:[-2. -2. -0.  0.  2.  2.  3.]\n"
     ]
    }
   ],
   "source": [
    "#b\n",
    "a = np.array([-1.8, -1.6, -0.5, 0.5,1.6, 1.8, 3.0])\n",
    "floor = np.floor(a)\n",
    "ceiling = np.ceil(a)\n",
    "truncate = np.trunc(a)\n",
    "rounded = np.round(a)\n",
    "print(f\"floor:{floor}\\n ceiling:{ceiling}\\n truncated values:{truncate}\\n rounded values:{rounded}\")\n"
   ]
  },
  {
   "cell_type": "code",
   "execution_count": 27,
   "id": "fb896033-279c-4473-bba8-68604b13e2a1",
   "metadata": {},
   "outputs": [
    {
     "name": "stdout",
     "output_type": "stream",
     "text": [
      "Sorted array:  [ 10  16  16  52  54  62 453]\n",
      "Indices of sorted array:  [0 3 4 1 5 2 6]\n",
      "4 smallest elements : [10 16 16 52]\n",
      "5 largest elements  : [ 16  52  54  62 453]\n"
     ]
    }
   ],
   "source": [
    "# ques 3\n",
    "#a\n",
    "arr = np.array([10, 52, 62, 16, 16, 54, 453])\n",
    "sortedArr = np.sort(arr)\n",
    "print(\"Sorted array: \", sortedArr)\n",
    "print(\"Indices of sorted array: \", np.argsort(arr))\n",
    "print(\"4 smallest elements :\", np.sort(arr)[:4])\n",
    "print(\"5 largest elements  :\", np.sort(arr)[-5:])\n"
   ]
  },
  {
   "cell_type": "code",
   "execution_count": 28,
   "id": "66a1be12-8382-4689-b665-3ebc1335bfed",
   "metadata": {},
   "outputs": [
    {
     "name": "stdout",
     "output_type": "stream",
     "text": [
      "Integer elements only:  [1. 2. 3. 2.]\n",
      "Float elements only:  [1.2 2.2]\n"
     ]
    }
   ],
   "source": [
    "#b\n",
    "\n",
    "arr1 =  np.array([1.0, 1.2, 2.2, 2.0, 3.0, 2.0])\n",
    "int_only = arr1[ arr1 == np.floor(arr1) ]\n",
    "print(\"Integer elements only: \", int_only)\n",
    "float_only = arr1[ arr1 != np.floor(arr1) ]\n",
    "print(\"Float elements only: \", float_only)"
   ]
  },
  {
   "cell_type": "code",
   "execution_count": 30,
   "id": "22ab6e24-b464-41d1-946e-2db0e28ceee1",
   "metadata": {},
   "outputs": [
    {
     "name": "stdout",
     "output_type": "stream",
     "text": [
      "RGB Image detected\n",
      "Image array saved as image_array.txt\n",
      "(50274, 3)\n",
      "[[148  90   0]\n",
      " [149  91   0]\n",
      " [149  91   0]\n",
      " ...\n",
      " [ 14  23  20]\n",
      " [  3  12   9]\n",
      " [  3  12   9]]\n"
     ]
    }
   ],
   "source": [
    "# ques 4\n",
    "import cv2\n",
    "import numpy as np\n",
    "\n",
    "def img_to_array(path, save_path=\"image_array.txt\"):\n",
    "    \n",
    "    img = cv2.imread(path, cv2.IMREAD_UNCHANGED)\n",
    "    if img is None:\n",
    "        print(\"Error: Image not found!\")\n",
    "        return\n",
    "    if len(img.shape) == 2:  \n",
    "        print(\"Grayscale Image detected\")\n",
    "    elif len(img.shape) == 3:  \n",
    "        print(\"RGB Image detected\")\n",
    "    else:\n",
    "        print(\"Unsupported format\")\n",
    "        return\n",
    "    np.savetxt(save_path, img.reshape(-1, img.shape[-1]) if len(img.shape) == 3 else img, fmt=\"%d\")\n",
    "    print(f\"Image array saved as {save_path}\")\n",
    "\n",
    "\n",
    "img_to_array(\"img.jpeg\")\n",
    "\n",
    "loaded_array = np.loadtxt(\"image_array.txt\", dtype=np.uint8)\n",
    "\n",
    "print(loaded_array.shape)\n",
    "print(loaded_array)\n"
   ]
  }
 ],
 "metadata": {
  "kernelspec": {
   "display_name": "Python 3 (ipykernel)",
   "language": "python",
   "name": "python3"
  },
  "language_info": {
   "codemirror_mode": {
    "name": "ipython",
    "version": 3
   },
   "file_extension": ".py",
   "mimetype": "text/x-python",
   "name": "python",
   "nbconvert_exporter": "python",
   "pygments_lexer": "ipython3",
   "version": "3.10.6"
  }
 },
 "nbformat": 4,
 "nbformat_minor": 5
}
